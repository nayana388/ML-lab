{
 "cells": [
  {
   "cell_type": "code",
   "execution_count": 1,
   "metadata": {},
   "outputs": [
    {
     "name": "stdout",
     "output_type": "stream",
     "text": [
      "Accuracy: 0.67\n",
      "[[16  0  0]\n",
      " [ 1  5 12]\n",
      " [ 0  2  9]]\n"
     ]
    }
   ],
   "source": [
    "import numpy as np, pandas as pd, matplotlib.pyplot as plt \n",
    "from sklearn import tree, metrics, model_selection, preprocessing\n",
    "\n",
    "df = pd.read_csv('iris.csv')\n",
    "df.head(5)\n",
    "\n",
    "df['species_label'],i = pd.factorize(df['species'])\n",
    "df['species'].unique()\n",
    "df['species_label'].unique()\n",
    "\n",
    "y = df['species_label'] \n",
    "X = df[['sepal.length', 'sepal.width']] \n",
    "\n",
    "X_train, X_test, y_train, y_test = model_selection.train_test_split(X, y,test_size=0.3, random_state=0)\n",
    "\n",
    "dtree = tree.DecisionTreeClassifier(criterion='entropy', max_depth=3)\n",
    "dtree.fit(X_train, y_train)\n",
    "\n",
    "y_pred = dtree.predict(X_test)\n",
    "\n",
    "accuracy = metrics.accuracy_score(y_test, y_pred)\n",
    "print('Accuracy: {:.2f}'.format(accuracy))\n",
    "\n",
    "from sklearn.metrics import confusion_matrix\n",
    "print(confusion_matrix(y_test, y_pred))"
   ]
  },
  {
   "cell_type": "code",
   "execution_count": null,
   "metadata": {},
   "outputs": [],
   "source": []
  }
 ],
 "metadata": {
  "kernelspec": {
   "display_name": "Python 3",
   "language": "python",
   "name": "python3"
  },
  "language_info": {
   "codemirror_mode": {
    "name": "ipython",
    "version": 3
   },
   "file_extension": ".py",
   "mimetype": "text/x-python",
   "name": "python",
   "nbconvert_exporter": "python",
   "pygments_lexer": "ipython3",
   "version": "3.7.4"
  }
 },
 "nbformat": 4,
 "nbformat_minor": 2
}
